{
 "cells": [
  {
   "cell_type": "markdown",
   "metadata": {},
   "source": [
    "# Attribute\n",
    "\n",
    "**Direct Reference**: pinn_ode_tutorial-master github repository\n",
    "\n",
    "**Original Work**: *Renato Nascimento, Kajetan Fricke, Felipe Viana*\n",
    "**Reference Github repo** https://github.com/PML-UCF/pinn_ode_tutorial.git"
   ]
  },
  {
   "cell_type": "markdown",
   "metadata": {},
   "source": [
    "# Libraries and Dependencies"
   ]
  },
  {
   "cell_type": "code",
   "execution_count": 1,
   "metadata": {},
   "outputs": [],
   "source": [
    "import pandas as pd\n",
    "import numpy as np\n",
    "\n",
    "import matplotlib.pyplot as plt\n",
    "import matplotlib as matplotlib\n",
    "\n",
    "from torch.nn.parameter import Parameter\n",
    "from torch import (\n",
    "    linalg,\n",
    "    nn,\n",
    "    Tensor,\n",
    "    stack,\n",
    "    cat,\n",
    "    transpose, \n",
    "    optim,\n",
    "    zeros,\n",
    "    diag,\n",
    "    reshape,\n",
    "    rand\n",
    "    )\n",
    "\n",
    "#For Data Generation\n",
    "from scipy import signal\n",
    "from scipy import linalg as linalg2"
   ]
  },
  {
   "cell_type": "markdown",
   "metadata": {},
   "source": [
    "### Statespace Function"
   ]
  },
  {
   "cell_type": "code",
   "execution_count": null,
   "metadata": {},
   "outputs": [],
   "source": [
    "#Generate a SDOF MSDS using a statespace function\n",
    "def statespacegenerator(m,c,k,T,dt,x0):\n",
    "    #System input force in Newtons\n",
    "    F_train = np.zeros((int(T/dt)))\n",
    "    j = 0\n",
    "    for i in range (0,int(T/dt)):\n",
    "        F_train[[i]] = 0\n",
    "        j = j+dt\n",
    "\n",
    "    #State space model for a SDOF system\n",
    "    #discretize the time steps \n",
    "    tdiscrete = np.arange(0,T,dt)\n",
    "\n",
    "    A = [[0,1], [-k/m, -c/m]]\n",
    "    B = [[0],[1/m]]\n",
    "    C = [[1,0]]\n",
    "    SDOFsys = signal.StateSpace(A,B,C,0)\n",
    "    [timetrace, y, x] = signal.lsim(SDOFsys, F_train, tdiscrete, x0)\n",
    "\n",
    "    return timetrace, y, x, F_train"
   ]
  },
  {
   "cell_type": "markdown",
   "metadata": {},
   "source": [
    "### Synthesize Data"
   ]
  },
  {
   "cell_type": "code",
   "execution_count": null,
   "metadata": {},
   "outputs": [],
   "source": [
    "#Generate synthetic data fleshed out\n",
    "x0 = np.array([1,0])\n",
    "timestep = 1/120\n",
    "m = 1\n",
    "c = 4\n",
    "k = 400\n",
    "timetotal = 1\n",
    "[t,y,x,F] = statespacegenerator(m,c,k,timetotal,timestep,x0)\n",
    "#Re-define 'xtrain' as the network input\n",
    "noise = np.random.normal(0,1,y.shape)\n",
    "state_noise = y + 0.1*noise\n",
    "\n",
    "#sample for 30 evenly spaced data points\n",
    "t_train = t[0:30]\n",
    "state_train = state_noise[0:30]\n",
    "F_train = F[0:30]"
   ]
  },
  {
   "cell_type": "markdown",
   "metadata": {},
   "source": [
    "# Hybrid RNN Code"
   ]
  },
  {
   "cell_type": "markdown",
   "metadata": {},
   "source": [
    "### Construct / Deploy Hybrid RNN"
   ]
  },
  {
   "cell_type": "code",
   "execution_count": 4,
   "metadata": {},
   "outputs": [],
   "source": [
    "class MyRNN(nn.Module):\n",
    "    def __init__(self, cell, **kwargs):\n",
    "        super(MyRNN, self).__init__()\n",
    "        self.cell = cell\n",
    "\n",
    "    def forward(self, inputs, initial_state):\n",
    "        # Step into proceeding timestep\n",
    "        bs, seq_sz = inputs.shape\n",
    "        state = []\n",
    "        state.append(initial_state)\n",
    "        for t in range(1, seq_sz): \n",
    "            input = inputs[:, t-1]\n",
    "            state_t = self.cell.forward(input, state[t-1])\n",
    "            state.append(state[t-1]+state_t)\n",
    "\n",
    "        return stack((state),dim=1)"
   ]
  },
  {
   "cell_type": "markdown",
   "metadata": {},
   "source": [
    "### Construct Runge-Kutta Cell"
   ]
  },
  {
   "cell_type": "code",
   "execution_count": 5,
   "metadata": {},
   "outputs": [],
   "source": [
    "class RungeKuttaIntegratorCell(nn.Module):\n",
    "    def __init__(self, m, c, k, dt, **kwargs):\n",
    "        super(RungeKuttaIntegratorCell, self).__init__(**kwargs)\n",
    "        self.c = Parameter(c[0])\n",
    "        self.k = Parameter(k[0])\n",
    "\n",
    "        # Runge-Kutta iterative vectors\n",
    "        self.state_size    = 2*len(m)\n",
    "        self.A  = Tensor([0., 0.5, 0.5, 1.0])\n",
    "        self.B  = Tensor([[1/6, 2/6, 2/6, 1/6]])\n",
    "        self.dt = dt\n",
    "\n",
    "    def forward(self, inputs, states):\n",
    "        y    = states[:,0:1] # IC position\n",
    "        ydot = states[:,1:2] # IC velocity\n",
    "        #Prepare Runge-Kutta computation\n",
    "        yddoti = self._fun(m, self.k, self.c, inputs, y, ydot)\n",
    "        yi     = y + self.A[0] * ydot * self.dt\n",
    "        ydoti  = ydot + self.A[0] * yddoti * self.dt\n",
    "        fn     = self._fun(m, self.k, self.c, inputs, yi, ydoti)\n",
    "        #Perfom Runge-Kutta Computation\n",
    "        for j in range(1,4):\n",
    "            yn    = y + self.A[j] * ydot * self.dt\n",
    "            ydotn = ydot + self.A[j] * yddoti * self.dt\n",
    "            ydoti = cat([ydoti, ydotn], dim=0)\n",
    "            fn    = cat([fn, self._fun(m, self.k, self.c, inputs, yn, ydotn)], dim=0)\n",
    "\n",
    "        y    = linalg.matmul(self.B, ydoti) * self.dt\n",
    "        ydot =  linalg.matmul(self.B, fn) * self.dt\n",
    "\n",
    "        return cat(([y, ydot]), dim=-1)\n",
    "\n",
    "    def _fun(self, m, k, c, u, y, ydot):\n",
    "        return (u - c*ydot - k*y)\n"
   ]
  },
  {
   "cell_type": "markdown",
   "metadata": {},
   "source": [
    "### Training Loop"
   ]
  },
  {
   "cell_type": "code",
   "execution_count": 6,
   "metadata": {},
   "outputs": [],
   "source": [
    "def pinn_training_loop(n_epochs, optimizer, model, loss_fn, train, label, initial_state):\n",
    "    mae = nn.L1Loss()\n",
    "    losses = []\n",
    "    cs = []\n",
    "    ks = []\n",
    "    for epoch in range(1, n_epochs + 1):\n",
    "        #Forward pass\n",
    "        output_train = model(train, initial_state)[:,:,0]\n",
    "        loss_train = loss_fn(output_train, label)\n",
    "        mae_train = mae(output_train, label)\n",
    "        #Partial observation\n",
    "        #loss_train = loss_fn(output_train[:,:,0], label)\n",
    "        #mae_train = mae(output_train[:,:,0], label)\n",
    "        #Track loss and c, k changes\n",
    "        losses.append(loss_train.item())\n",
    "        cs.append(c.item())\n",
    "        ks.append(k.item())\n",
    "        #Backward pass\n",
    "        optimizer.zero_grad()\n",
    "        loss_train.backward()\n",
    "        optimizer.step()\n",
    "\n",
    "        print(f\"Epoch {epoch}, Training loss {loss_train.item():.4e}, mae {mae_train.item():.4e}\")\n",
    "        \n",
    "    return losses, cs, ks"
   ]
  },
  {
   "cell_type": "markdown",
   "metadata": {},
   "source": [
    "### Execute Training"
   ]
  },
  {
   "cell_type": "code",
   "execution_count": null,
   "metadata": {},
   "outputs": [],
   "source": [
    "# masses, spring coefficients, and damping coefficients\n",
    "m = Tensor([1])\n",
    "k = 1000*rand(1) # inintial guess for stiffness coefficient\n",
    "c = 10*rand(1) # initial guess for damping coefficient\n",
    "print(c)\n",
    "print(k)\n",
    "# data, prepare as tensors\n",
    "dt_train = (t_train[1] - t_train[0])\n",
    "t_train_tense = Tensor(t_train)\n",
    "utrain = Tensor(F_train)\n",
    "ytrain = Tensor(state_train)\n",
    "\n",
    "t_tense = Tensor(t)\n",
    "F_tense = Tensor(F)\n",
    "y_tense = Tensor(y)\n",
    "\n",
    "#resize tensors\n",
    "#t_train_tense = reshape(t,(1,len(t)))\n",
    "utrain = reshape(utrain, (1, len(t_train)))\n",
    "ytrain = reshape(ytrain, (1, len(t_train)))\n",
    "\n",
    "#tpuretense = reshape(tpuretense, (1,len(tpuretense)))\n",
    "F_full = reshape(F_tense, (1, len(t)))\n",
    "y_full = reshape(y_tense, (1, len(t)))\n",
    "\n",
    "# Initial state of the system \n",
    "initial_state = Tensor(x0)\n",
    "initial_state = reshape(initial_state,(1,2))\n",
    "\n",
    "rkCell = RungeKuttaIntegratorCell(m=m, c=c, k=k, dt=dt_train)\n",
    "model = MyRNN(cell=rkCell)\n",
    "    \n",
    "#prediction results before training\n",
    "yPred_before = model(F_full, initial_state)\n",
    "yPred_before = yPred_before.detach().numpy()[0,:,0]\n",
    "\n",
    "#check number of params\n",
    "total_params = sum(p.numel() for p in model.parameters())\n",
    "print(total_params)\n",
    "\n",
    "#PINN training\n",
    "losses, cs, ks = pinn_training_loop(\n",
    "        n_epochs = 10000,\n",
    "        optimizer = optim.Adam(model.parameters(), lr=5e-2),\n",
    "        model = model,\n",
    "        loss_fn = nn.MSELoss(),\n",
    "        train = utrain,\n",
    "        label = ytrain,\n",
    "        initial_state=initial_state\n",
    "        )"
   ]
  },
  {
   "cell_type": "markdown",
   "metadata": {},
   "source": [
    "### Visualize Results"
   ]
  },
  {
   "cell_type": "code",
   "execution_count": null,
   "metadata": {},
   "outputs": [],
   "source": [
    "#prediction results after training\n",
    "yPred = model(F_full, initial_state)\n",
    "yPred = yPred.detach().numpy()[0,:,0]\n",
    "\n",
    "# plotting prediction results\n",
    "print(c)\n",
    "print(k)\n",
    "# prep for scatterplot\n",
    "\n",
    "plt.scatter(t_train, state_train, color = 'gray', label = 'data')\n",
    "plt.plot(t, yPred_before, 'r', label='before training')\n",
    "plt.plot(t, yPred, 'b', label='after training')\n",
    "plt.plot(t, y, 'g', label = 'true value')\n",
    "plt.xlabel('Time [s]')\n",
    "plt.ylabel('Position [m]')\n",
    "plt.legend()\n",
    "plt.show()\n",
    "\n",
    "# Loss\n",
    "plt.plot(losses,color = 'black')\n",
    "plt.yscale(\"log\")\n",
    "plt.title(\"Loss trend under Adam optimization\")\n",
    "plt.xlabel('Epochs')\n",
    "plt.ylabel('Loss [base 10 log]')\n",
    "plt.show()\n",
    "\n",
    "#C track\n",
    "plt.plot(cs[0:], color = 'black', label = 'c')\n",
    "plt.axhline(y = 4, color = 'black', linestyle = 'dashed', label = 'cgoal')\n",
    "plt.legend()\n",
    "plt.xlabel('Epochs')\n",
    "plt.ylabel('Parameter value')\n",
    "plt.show()\n",
    "\n",
    "#k track\n",
    "plt.plot(ks[0:], color = 'black', label = 'k')\n",
    "plt.axhline(y = 400, color = 'black', linestyle = 'dashed', label = 'k')\n",
    "plt.legend()\n",
    "plt.xlabel('Epochs')\n",
    "plt.ylabel('Parameter value')\n",
    "plt.show()"
   ]
  }
 ],
 "metadata": {
  "kernelspec": {
   "display_name": "Python 3",
   "language": "python",
   "name": "python3"
  },
  "language_info": {
   "codemirror_mode": {
    "name": "ipython",
    "version": 3
   },
   "file_extension": ".py",
   "mimetype": "text/x-python",
   "name": "python",
   "nbconvert_exporter": "python",
   "pygments_lexer": "ipython3",
   "version": "3.8.10"
  }
 },
 "nbformat": 4,
 "nbformat_minor": 2
}
