{
 "cells": [
  {
   "cell_type": "markdown",
   "metadata": {},
   "source": [
    "### Attribute\n",
    "Code provided by Rimple Sandu"
   ]
  },
  {
   "cell_type": "code",
   "execution_count": 1,
   "metadata": {
    "colab": {
     "base_uri": "https://localhost:8080/"
    },
    "executionInfo": {
     "elapsed": 2349,
     "status": "ok",
     "timestamp": 1681153232622,
     "user": {
      "displayName": "Brandon Robinson",
      "userId": "07237383384365045952"
     },
     "user_tz": 240
    },
    "id": "-mg6soKgLpaV",
    "outputId": "a9596465-64c1-4f5c-e787-3c827303da85"
   },
   "outputs": [],
   "source": [
    "import os, math, sys, random\n",
    "import numpy as np\n",
    "import numpy.linalg as la\n",
    "import scipy.stats as st\n",
    "import scipy.optimize as sopt\n",
    "import matplotlib as mpl\n",
    "import matplotlib.pyplot as plt"
   ]
  },
  {
   "cell_type": "code",
   "execution_count": null,
   "metadata": {
    "colab": {
     "base_uri": "https://localhost:8080/",
     "height": 1000
    },
    "executionInfo": {
     "elapsed": 2518,
     "status": "ok",
     "timestamp": 1681153235136,
     "user": {
      "displayName": "Brandon Robinson",
      "userId": "07237383384365045952"
     },
     "user_tz": 240
    },
    "id": "O-GSaDs44Sck",
    "outputId": "5cd47a4f-037b-4226-cad8-67cae2239159"
   },
   "outputs": [],
   "source": [
    "dof = 1 # degree of freedom\n",
    "Y0   = [1,0] # initial conditions, [disp(3), vel(3)]\n",
    "mVec = [1] # mass vector\n",
    "kVec = [400] # stiffness vector\n",
    "cVec = [4] # damping vector\n",
    "noiseSigma = 0.1\n",
    " # measurement noise strength\n",
    "obsInd = 0 # what state to observe\n",
    "T = 0.25 # total time for forward integration\n",
    "sampFac = 2 # sample every sampFac time step ORIGINAL VALUE = 8\n",
    "tgrd = int(240*T) # time integration grid\n",
    "\n",
    "Kmat = np.zeros((dof,dof))\n",
    "Cmat = np.zeros((dof,dof))\n",
    "Mmat = np.diag(mVec)\n",
    "Kmat[0,:] = [kVec[0]]\n",
    "Cmat[0,:] = [cVec[0]]\n",
    "print(Mmat,'\\n',Kmat,'\\n',Cmat)\n",
    "\n",
    "Zmat = np.zeros((2*dof,2*dof))\n",
    "Zmat[0:dof,dof:] = np.diag([-1]*dof)\n",
    "Zmat[dof:,0:dof] = la.inv(Mmat)@Kmat\n",
    "Zmat[dof:,dof:] = la.inv(Mmat)@Cmat\n",
    "lamda,V = la.eig(Zmat)\n",
    "aVec = la.inv(V)@Y0\n",
    "#aVec = [100,0,0,0,0,0]\n",
    "def Y_mdof(t):\n",
    "    lamdaMat = np.diag(np.exp(-lamda*t))\n",
    "    return np.real(V@lamdaMat@aVec)\n",
    "\n",
    "### Synthetic Data ###\n",
    "\n",
    "Ytrue=np.zeros((2*dof,tgrd))\n",
    "tlist = np.linspace(0,T,tgrd)\n",
    "for i in range(0,tgrd):\n",
    "    Ytrue[:,i] = Y_mdof(tlist[i])\n",
    "np.random.seed(116)\n",
    "Ynoisy = Ytrue[obsInd,0:] + noiseSigma*np.random.normal(0,1,tgrd)\n",
    "Yobs = Ynoisy[0::sampFac]\n",
    "tobs = tlist[0::sampFac]\n",
    "\n",
    "np.savetxt('Ydata.dat',Yobs)\n",
    "np.savetxt('Xdata.dat',tobs)\n",
    "np.savetxt('init.dat',Y0)\n",
    "\n",
    "### Plotting ###\n",
    "\n",
    "mpl.rcParams.update({'font.size':12})\n",
    "for j in range(0,2*dof):\n",
    "    f, ax = plt.subplots(1, figsize=(10,3))\n",
    "    plt.plot(tlist,Ytrue[j,:],'b-')\n",
    "    if j == obsInd:\n",
    "        plt.plot(tobs,Yobs,'r.',label='Observations')\n",
    "        #plt.plot(tobs,Yobs,'r-')\n",
    "        #plt.plot(tobs,Yobs,'r-')\n",
    "        plt.legend(loc='upper right', numpoints = 1)\n",
    "    plt.grid(True)\n",
    "    plt.xlabel('Time (s)')\n",
    "    # plt.ylabel(r'Displacement: $u_'+str(j+1)+'$')\n",
    "    plt.xlim([-0.01,T])\n",
    "    plt.ticklabel_format(style='sci', axis='y', scilimits=(-3,3))\n",
    "    # plt.ylim([-1.1,1.1])\n",
    "# plt.savefig('figs/Yobs.eps',bbox_inches='tight')"
   ]
  },
  {
   "cell_type": "code",
   "execution_count": 3,
   "metadata": {},
   "outputs": [],
   "source": [
    "#True grid for forecast\n",
    "T_true = 1\n",
    "tgrd_true = 240*T_true\n",
    "tlist_true = np.linspace(0,T_true,tgrd_true)\n",
    "\n",
    "dof = 1 # degree of freedom\n",
    "Npar = 2 # number of unknown parameters\n",
    "obsInd = 0 # what state was observed\n",
    "# phiTrue = [0,1e5]\n",
    "phiTrue = [4,400]\n",
    "X_low = [0,0]\n",
    "X_up = [20,1000]\n",
    "mylabel = [r'$c$', r'$k$']\n",
    "mydof = ['Displacement [m]','Velocity [m/s]']\n",
    "\n",
    "# Y0 = np.loadtxt('init.dat')\n",
    "# Yobs = np.loadtxt('Ydata.dat')\n",
    "# tobs = np.loadtxt('Xdata.dat')\n",
    "Nobs = np.size(Yobs)\n",
    "\n",
    "def loglikfun(parVecIn):\n",
    "    mVec = [1]*dof # mass vector\n",
    "    cVec = [parVecIn[0]] # stiffness vector\n",
    "    kVec = [parVecIn[1]] # stiffness vector\n",
    "    noiseSig = noiseSigma \n",
    "    Kmat = np.zeros((dof,dof))\n",
    "    Cmat = np.zeros((dof,dof))\n",
    "    Mmat = np.diag(mVec)\n",
    "    Kmat[0,:] = [kVec[0]]\n",
    "    Cmat[0,:] = [cVec[0]]\n",
    "    Zmat = np.zeros((2*dof,2*dof))\n",
    "    Zmat[0:dof,dof:] = np.diag([-1]*dof)\n",
    "    Zmat[dof:,0:dof] = la.inv(Mmat)@Kmat\n",
    "    Zmat[dof:,dof:] = la.inv(Mmat)@Cmat\n",
    "    lamda,V = la.eig(Zmat)\n",
    "    aVec = la.inv(V)@Y0\n",
    "    #aVec = [100,0,0,0,0,0]\n",
    "    loglikfun = 0.0\n",
    "    for i in range(0,Nobs):\n",
    "        tempVec = np.exp(-lamda*tobs[i])\n",
    "        lamdaMat = np.diag(tempVec)\n",
    "        Yresp = np.real(V@lamdaMat@aVec)\n",
    "        loglikfun = loglikfun + (Yobs[i] - Yresp[obsInd])**2\n",
    "    return -loglikfun/(2.0*noiseSig**2) - np.log(noiseSig)\n",
    "\n",
    "def logpriorpdf(parVecIn):\n",
    "        logprior = 0.0\n",
    "        #logprior = logprior + rv2.logpdf(parVecIn[3])\n",
    "        return logprior\n",
    "def logpostprob(phiIn):\n",
    "    #return logpriorpdf(phiIn) + loglikfun(phiIn)\n",
    "    return loglikfun(phiIn)\n",
    "def negativeloglik(phiIn):\n",
    "    return -logpostprob(phiIn)"
   ]
  },
  {
   "cell_type": "code",
   "execution_count": 4,
   "metadata": {},
   "outputs": [],
   "source": [
    "Ngrd  = 100\n",
    "LogLikelihood = np.zeros((Ngrd,Ngrd))\n",
    "Par1bnd = [0,10]\n",
    "Par2bnd = [0,1000]\n",
    "Par1rng = np.linspace(Par1bnd[0],Par1bnd[1],Ngrd)\n",
    "Par2rng  = np.linspace(Par2bnd[0],Par2bnd[1],Ngrd)\n",
    "Par1grd,Par2grd = np.meshgrid(Par1rng,Par2rng)\n",
    "for i in range(0,Ngrd):\n",
    "    for j in range(0, Ngrd):\n",
    "        ParCur = np.array([Par1grd[i,j],Par2grd[i,j]])\n",
    "        LogLikelihood[i,j] = np.exp(loglikfun(ParCur))\n",
    "\n"
   ]
  },
  {
   "cell_type": "code",
   "execution_count": null,
   "metadata": {},
   "outputs": [],
   "source": [
    "mpl.rcParams.update({'font.size':16})\n",
    "#mpl.rcParams['contour.negative_linestyle'] = 'solid'\n",
    "minVal = 0\n",
    "f, ax = plt.subplots(1, figsize=(12,10))\n",
    "plt.pcolor(Par1grd,Par2grd,LogLikelihood,cmap='Blues')\n",
    "plt.colorbar()\n",
    "plt.grid('on',linestyle='--')\n",
    "plt.xlabel(mylabel[0])\n",
    "plt.xlabel(mylabel[1])\n",
    "plt.xticks(np.linspace(Par1bnd[0],Par1bnd[1],5))\n",
    "plt.yticks(np.linspace(Par2bnd[0],Par2bnd[1],5))\n",
    "# plt.xlim([0,6])\n",
    "# plt.ylim([0,3])\n",
    "#plt.title('Objective function')\n",
    "#plt.savefig('plot_objfun.eps',bbox_inches='tight')"
   ]
  },
  {
   "cell_type": "code",
   "execution_count": null,
   "metadata": {
    "colab": {
     "base_uri": "https://localhost:8080/",
     "height": 352
    },
    "executionInfo": {
     "elapsed": 6,
     "status": "error",
     "timestamp": 1691097191498,
     "user": {
      "displayName": "Brandon Robinson",
      "userId": "07237383384365045952"
     },
     "user_tz": 240
    },
    "id": "pWKoCGYfRb0i",
    "outputId": "636313b7-ab54-46c7-ab92-6fe719883d32"
   },
   "outputs": [],
   "source": [
    "from My_TMCMC import TMCMC\n",
    "Nsmp = 5000\n",
    "Xsmp, Chain, LLsmp, Evid, tmcmcFac  = TMCMC(logpostprob,Npar,X_low,X_up,Nsmp)"
   ]
  },
  {
   "cell_type": "code",
   "execution_count": null,
   "metadata": {
    "colab": {
     "base_uri": "https://localhost:8080/",
     "height": 1000
    },
    "executionInfo": {
     "elapsed": 6258,
     "status": "ok",
     "timestamp": 1681153543334,
     "user": {
      "displayName": "Brandon Robinson",
      "userId": "07237383384365045952"
     },
     "user_tz": 240
    },
    "id": "LwnfqTyzXSjQ",
    "outputId": "3889bf82-7c0a-4241-846d-4915ca33bf4f"
   },
   "outputs": [],
   "source": [
    "print(np.shape(Chain))\n",
    "print(np.shape(Xsmp))\n",
    "\n",
    "for ii in range(Npar):\n",
    "  plt.figure(ii)\n",
    "  plt.plot((1/Nsmp)*np.arange(0,len(Chain[ii,:])),Chain[ii,:],'b.',markersize=2,alpha=0.1)\n",
    "  plt.ylim([X_low[ii],X_up[ii]])\n",
    "  plt.xlim([1,6])\n",
    "  plt.xlabel(mylabel[ii])\n",
    "  plt.grid(True)\n"
   ]
  },
  {
   "cell_type": "code",
   "execution_count": null,
   "metadata": {},
   "outputs": [],
   "source": [
    "count = 0\n",
    "for ii in range(len(Xsmp[0,:])):\n",
    "    if Xsmp[0,ii] < 2:\n",
    "        count = count + 1\n",
    "\n",
    "print(count,len(Xsmp[0,:]))"
   ]
  },
  {
   "cell_type": "code",
   "execution_count": 9,
   "metadata": {
    "id": "CfbVKIwpehOE"
   },
   "outputs": [],
   "source": [
    "np.savetxt('muVec.dat',Xsmp)\n",
    "\n",
    "statSmp = Xsmp.copy()\n",
    "kdeMCMC= st.gaussian_kde(statSmp,bw_method = 0.1)\n",
    "SigMat = kdeMCMC.covariance\n",
    "np.savetxt('SigMat.dat',SigMat)"
   ]
  },
  {
   "cell_type": "code",
   "execution_count": null,
   "metadata": {},
   "outputs": [],
   "source": [
    "#np.savetxt('msd_0_samples.dat',Xsmp)\n",
    "#np.savetxt('msd_0_chain.dat',Chain)\n",
    "\n",
    "statSmp = Xsmp.copy()\n",
    "kdeMCMC= st.gaussian_kde(statSmp,bw_method = 0.1)\n",
    "SigMat = kdeMCMC.covariance\n",
    "# np.savetxt('SigMat.dat',SigMat)\n",
    "\n",
    "import scipy.stats as st\n",
    "from scipy.optimize import minimize\n",
    "kde = st.gaussian_kde(statSmp )\n",
    "def kde_fun(x):\n",
    "  return -kde(x)\n",
    "res = minimize(kde_fun,phiTrue, method='nelder-mead',options={'xatol': 1e-8, 'disp': True})\n",
    "\n",
    "maps = res.x\n",
    "mean = np.mean(statSmp,axis=1)\n",
    "#np.savetxt('Case01Model2-map.dat')\n",
    "print(maps,mean)"
   ]
  },
  {
   "cell_type": "code",
   "execution_count": null,
   "metadata": {
    "colab": {
     "base_uri": "https://localhost:8080/",
     "height": 1000
    },
    "executionInfo": {
     "elapsed": 6129,
     "status": "ok",
     "timestamp": 1681153549988,
     "user": {
      "displayName": "Brandon Robinson",
      "userId": "07237383384365045952"
     },
     "user_tz": 240
    },
    "id": "rmUa13JRTUAJ",
    "outputId": "b20d1ebd-9118-43d6-d214-f06604bc7a04"
   },
   "outputs": [],
   "source": [
    "mpl.rcParams.update({'font.size':14})\n",
    "statSmp = Xsmp\n",
    "bandwidth = [0.1,0.1]\n",
    "\n",
    "for j in range(0,Npar):\n",
    "    f, ax = plt.subplots(1, figsize=(3,3))\n",
    "    #Xpdf = st.kde.gaussian_kde(statSmp[j,:])\n",
    "    Xpdf = st.kde.gaussian_kde(statSmp[j,:],bw_method = bandwidth[j])\n",
    "    print(Xpdf.silverman_factor())\n",
    "    Xgrd = np.linspace(np.min(statSmp[j,:]),np.max(statSmp[j,:]))\n",
    "    Xgrd = np.linspace(X_low[j],X_up[j],100)\n",
    "    plt.plot(Xgrd,Xpdf(Xgrd),'b-')\n",
    "    plt.hist(statSmp[j,:], bins=50, density=True,alpha=0.5)\n",
    "    pdfmax = max(Xpdf(Xgrd))\n",
    "    myYlim = [0.0, 1.1*pdfmax]\n",
    "    plt.plot([phiTrue[j],phiTrue[j]],myYlim,'--k',label='True')\n",
    "    # plt.legend(loc='upper left', numpoints = 1)\n",
    "    plt.plot([phiTrue[j],phiTrue[j]],myYlim,'--k')\n",
    "    plt.ylabel('pdf')\n",
    "    plt.xlabel(mylabel[j])\n",
    "    #plt.xlim([np.min(statSmp[j,:]),np.max(statSmp[j,:])])\n",
    "    plt.ylim(myYlim)\n",
    "    plt.xlim([X_low[j],X_up[j]])\n",
    "    # plt.yticks([])\n",
    "    plt.grid(True)\n",
    "    # plt.savefig('mpdf_'+str(j)+'.pdf',bbox_inches='tight')\n",
    "\n",
    "    for jj in range(Npar):\n",
    "        if j != jj:            \n",
    "            f, ax = plt.subplots(1, figsize=(3,3))\n",
    "            plt.scatter(statSmp[j,::1],statSmp[jj,::1],alpha=0.1,s=25)\n",
    "            # plt.xlim([X_low[j],X_up[j]])\n",
    "            # plt.ylim([X_low[jj],X_up[jj]])\n",
    "            plt.xlabel(mylabel[j])\n",
    "            plt.ylabel(mylabel[jj])\n",
    "            # plt.ylim([0,5e5])\n",
    "            # plt.xlim([0,8e5])\n",
    "            # plt.savefig('figures/m1_jpdf_'+ str(ii)+str(jj)+'.pdf',bbox_inches='tight')\n",
    "            # plt.close()"
   ]
  },
  {
   "cell_type": "code",
   "execution_count": null,
   "metadata": {},
   "outputs": [],
   "source": [
    "#np.savetxt('msd_0_samples.dat',Xsmp)\n",
    "#np.savetxt('msd_0_chain.dat',Chain)\n",
    "\n",
    "statSmp = Xsmp.copy()\n",
    "kdeMCMC= st.gaussian_kde(statSmp,bw_method = 0.1)\n",
    "SigMat = kdeMCMC.covariance\n",
    "# np.savetxt('SigMat.dat',SigMat)\n",
    "\n",
    "import scipy.stats as st\n",
    "from scipy.optimize import minimize\n",
    "kde = st.gaussian_kde(statSmp )\n",
    "def kde_fun(x):\n",
    "  return -kde(x)\n",
    "res = minimize(kde_fun,phiTrue, method='nelder-mead',options={'xatol': 1e-8, 'disp': True})\n",
    "\n",
    "maps = res.x\n",
    "mean = np.mean(statSmp,axis=1)\n",
    "#np.savetxt('Case01Model2-map.dat')\n",
    "print(maps,mean)"
   ]
  },
  {
   "cell_type": "code",
   "execution_count": null,
   "metadata": {},
   "outputs": [],
   "source": [
    "msize = 1.2\n",
    "for i in range(0,Npar):\n",
    "    for j in range(i+1,Npar):\n",
    "        fig = plt.figure(Npar*i+j,figsize=(8,8))\n",
    "        xmin = X_low[i]\n",
    "        xmax = X_up[i]\n",
    "        ymin = X_low[j]\n",
    "        ymax = X_up[j]\n",
    "        x = Xsmp[i,:]\n",
    "        y = Xsmp[j,:]\n",
    "        xx, yy = np.mgrid[xmin:xmax:100j, ymin:ymax:100j]\n",
    "        positions = np.vstack([xx.ravel(), yy.ravel()])\n",
    "        values = np.vstack([x, y])\n",
    "        kernel = st.gaussian_kde(values,bw_method = 0.1)\n",
    "        f = np.reshape(kernel(positions).T, xx.shape)\n",
    "        ax = fig.gca()\n",
    "        # Contourf plot\n",
    "        cfset = ax.contourf(xx, yy, f, 15,cmap='Blues')\n",
    "        ## Or kernel density estimate plot instead of the contourf plot\n",
    "        #ax.imshow(np.rot90(f), cmap='Blues', extent=[xmin, xmax, ymin, ymax])\n",
    "        # Contour plot\n",
    "        #cset = ax.contour(xx, yy, f, colors='k')\n",
    "        # Label plot\n",
    "        #ax.clabel(cset, inline=1, fontsize=10)\n",
    "        plt.plot([X_low[i],X_up[i]],[phiTrue[j],phiTrue[j]],'r--')\n",
    "        plt.plot([phiTrue[i],phiTrue[i]],[X_low[j],X_up[j]],'r--')\n",
    "        plt.xlabel(mylabel[i])\n",
    "        plt.ylabel(mylabel[j])\n",
    "        plt.xlim([xmin,xmax])\n",
    "        plt.ylim([ymin,ymax])\n",
    "        plt.grid(True)\n",
    "        # plt.savefig('jpdf_post'+str(i+1)+str(j+1)+'.eps',bbox_inches='tight')"
   ]
  },
  {
   "cell_type": "code",
   "execution_count": 14,
   "metadata": {
    "id": "YoNFu916C9V_"
   },
   "outputs": [],
   "source": [
    "def Yresponse(parVecIn):\n",
    "    dof = 1 # degree of freedom\n",
    "    Y0   = [1,0] # initial conditions, [disp(3), vel(3)]\n",
    "    mVec = [1] # mass vector\n",
    "    cVec = [parVecIn[0]] # stiffness vector\n",
    "    kVec = [parVecIn[1]] ##### modify this\n",
    "    # kVec = [parVecIn[2],parVecIn[3]] ##### modify this\n",
    "    Kmat = np.zeros((dof,dof))\n",
    "    Cmat = np.zeros((dof,dof))\n",
    "    Mmat = np.diag(mVec)\n",
    "    Kmat[0,:] = [kVec[0]]\n",
    "    Cmat[0,:] = [cVec[0]]\n",
    "    Zmat = np.zeros((2*dof,2*dof))\n",
    "    Zmat[0:dof,dof:] = np.diag([-1]*dof)\n",
    "    Zmat[dof:,0:dof] = la.inv(Mmat)@Kmat\n",
    "    Zmat[dof:,dof:] = la.inv(Mmat)@Cmat\n",
    "    lamda,V = la.eig(Zmat)\n",
    "    aVec = la.inv(V)@Y0\n",
    "    Yresp = np.zeros((2*dof,tgrd_true))\n",
    "    for i in range(0,tgrd_true):\n",
    "        tempVec = np.exp(-lamda*tlist_true[i])\n",
    "        lamdaMat = np.diag(tempVec)\n",
    "        Yresp[:,i] = np.real(V@lamdaMat@aVec)\n",
    "    return Yresp\n",
    "\n",
    "\n",
    "\n",
    "mpl.rcParams.update({'font.size':12})\n",
    "Ytrue = Yresponse(phiTrue)\n",
    "Nreal = 1000\n",
    "Yreal = np.zeros((2*dof,Nreal,tgrd_true))\n",
    "Ystd = np.zeros((2*dof,tgrd_true))\n",
    "Ymean = np.zeros((2*dof,tgrd_true))\n",
    "\n",
    "# c_map = [4,400]\n",
    "\n",
    "muVec = Xsmp\n",
    "# Ymap = Yresponse(c_map)\n",
    "for j in range(0,Nreal):\n",
    "  Ysim = Yresponse(muVec[:,j*1])\n",
    "  for i in range(2*dof):\n",
    "    #Ysim = Yresponse([0,0,muVec[j]])\n",
    "    Yreal[i,j,:] = Ysim[i,:]\n",
    "\n",
    "for i in range(2*dof):\n",
    "  Ystd[i,:] = np.std(Yreal[i,:,:],0)\n",
    "  Ymean[i,:] = np.mean(Yreal[i,:,:],0)\n"
   ]
  },
  {
   "cell_type": "code",
   "execution_count": null,
   "metadata": {
    "colab": {
     "base_uri": "https://localhost:8080/",
     "height": 1000
    },
    "executionInfo": {
     "elapsed": 20373,
     "status": "ok",
     "timestamp": 1681153591130,
     "user": {
      "displayName": "Brandon Robinson",
      "userId": "07237383384365045952"
     },
     "user_tz": 240
    },
    "id": "jKvQZFgtOr56",
    "outputId": "daeb0aad-212f-4a6c-e26b-357fe9a8e28d"
   },
   "outputs": [],
   "source": [
    "\n",
    "for i in range(2*dof):\n",
    "  lwidth = 0.1\n",
    "  plt.figure(1,figsize=(8,3))\n",
    "  fig, ax = plt.subplots()\n",
    "  #plt.plot(tobs,Yobs,'k.',label='Observations')\n",
    "  plt.grid(True)\n",
    "  plt.xlabel('Time (s)')\n",
    "  plt.ylabel(mydof[i])\n",
    "  plt.xlim([-0.001,T_true])\n",
    "  if i == 0:\n",
    "    plt.scatter(tobs,Yobs,color='w',edgecolor='k')\n",
    "  plt.plot(tlist_true,Ymean[i,:],color='r',linestyle='--',linewidth=2,label='Predicted')\n",
    "  plt.plot(tlist_true,Yreal[i,:].T,linewidth=0.05,alpha=0.1,color='r')\n",
    "  # plt.plot(tlist,Ymean[i,:]+2*Ystd[i,:],color='tab:red',linestyle='--',linewidth=1.2,label='99/% region')\n",
    "  # plt.plot(tlist,Ymean[i,:]-2*Ystd[i,:],color='tab:red',linestyle='--',linewidth=1.2)\n",
    "\n",
    "  #   plt.legend(loc='upper right', numpoints = 1)\n",
    "  # ax.fill_between(tlist, Y2, Y1, where=Y2 >= Y1, facecolor='pink', interpolate=True)\n",
    "  plt.plot(tlist_true,Ytrue[i,:],'tab:blue',linewidth=2,label = 'True')\n",
    "  #plt.xlim([0,T])\n",
    "  # plt.ylim([-50,50])\n",
    "  # plt.savefig('figs/predictions_before_dof_'+str(i)+'.pdf',bbox_inches='tight')"
   ]
  }
 ],
 "metadata": {
  "colab": {
   "authorship_tag": "ABX9TyMlv7TbS9SSaX1OVsuF4mrl",
   "provenance": [
    {
     "file_id": "1YPVQYVQICk3P3pKq3ZLdJ9MpXbQq_FOg",
     "timestamp": 1680468200473
    }
   ]
  },
  "kernelspec": {
   "display_name": "Python 3",
   "name": "python3"
  },
  "language_info": {
   "codemirror_mode": {
    "name": "ipython",
    "version": 3
   },
   "file_extension": ".py",
   "mimetype": "text/x-python",
   "name": "python",
   "nbconvert_exporter": "python",
   "pygments_lexer": "ipython3",
   "version": "3.8.10"
  }
 },
 "nbformat": 4,
 "nbformat_minor": 0
}
