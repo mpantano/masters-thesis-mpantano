{
 "cells": [
  {
   "cell_type": "markdown",
   "metadata": {},
   "source": [
    "### Attribute\n",
    "Code provided by Brandon Robinson"
   ]
  },
  {
   "cell_type": "markdown",
   "metadata": {
    "id": "b3xBeE2PC_xI"
   },
   "source": [
    "#### TMCMC sampling for the multidimensional mass-spring-damper system"
   ]
  },
  {
   "cell_type": "code",
   "execution_count": 101,
   "metadata": {
    "colab": {
     "background_save": true,
     "base_uri": "https://localhost:8080/"
    },
    "id": "HHrGcErkC_xU"
   },
   "outputs": [],
   "source": [
    "#!/usr/bin/python\n",
    "import numpy as np\n",
    "import numpy.linalg as la\n",
    "import scipy.stats as st\n",
    "import scipy.optimize as sopt\n",
    "import matplotlib as mpl\n",
    "import matplotlib.pyplot as plt\n",
    "import pandas as pd\n",
    "\n",
    "import My_TMCMC\n",
    "\n",
    "np.random.seed(106)  # fixing the random seed"
   ]
  },
  {
   "cell_type": "markdown",
   "metadata": {
    "id": "6e3je5L_CtSW"
   },
   "source": [
    "## SIRD Model\n",
    "\n",
    "The SIRD model used in this example has the following form:\n",
    "\n",
    "\\begin{align}\n",
    "\\frac{dS}{dt} & = -\\beta S I \\\\\n",
    "\\frac{dI}{dt} & = \\beta S I - \\gamma I - \\mu I \\\\\n",
    "\\frac{dR}{dt} & = \\gamma I \\\\\n",
    "\\frac{dD}{dt} & = \\mu I\n",
    "\\end{align}\n",
    "\n",
    "with parameters $\\beta$, $\\gamma$, and $\\delta$ representing the infection rate, the recovery rate and the death rate, respectively."
   ]
  },
  {
   "cell_type": "code",
   "execution_count": 102,
   "metadata": {
    "colab": {
     "background_save": true,
     "base_uri": "https://localhost:8080/"
    },
    "id": "6HBEfCJPC_xX"
   },
   "outputs": [],
   "source": [
    "Npar = 3 # number of unknown parameters\n",
    "philock = [0.9998,0.789,0.014] #some guess for MAP estimate\n",
    "X_low = [0,0,0]\n",
    "X_up = [1,1,1]\n",
    "mylabel = [r'$\\beta$',r'$\\gamma$',r'$\\mu$']"
   ]
  },
  {
   "cell_type": "code",
   "execution_count": 103,
   "metadata": {
    "colab": {
     "base_uri": "https://localhost:8080/",
     "height": 469
    },
    "executionInfo": {
     "elapsed": 398,
     "status": "ok",
     "timestamp": 1691710242062,
     "user": {
      "displayName": "Brandon Robinson",
      "userId": "07237383384365045952"
     },
     "user_tz": 240
    },
    "id": "G7Fmzz5kLGEy",
    "outputId": "2fd1b491-2860-4f89-afd5-26cfd333eabc"
   },
   "outputs": [
    {
     "name": "stdout",
     "output_type": "stream",
     "text": [
      "debug\n"
     ]
    }
   ],
   "source": [
    "T = 211 # total time for forward integration\n",
    "\n",
    "tlist = np.linspace(0,T,T+1)\n",
    "dof = 4\n",
    "obsInd = [0,1,2,3]\n",
    "\n",
    "data = pd.read_csv('data/SIRD_organized_data.csv')\n",
    "datanp = data.to_numpy()\n",
    "\n",
    "# Total Ontario Population via Statcan (2020 estimate)\n",
    "N = 14761811\n",
    "#212 data points\n",
    "S = datanp[:,1:2].astype('float64')\n",
    "I = datanp[:,2:3].astype('float64')\n",
    "R = datanp[:,3:4].astype('float64')\n",
    "D = datanp[:,4:5].astype('float64')\n",
    "# Normalize relative to static population estimate\n",
    "Snorm = S/N\n",
    "Inorm = I/N\n",
    "Rnorm = R/N\n",
    "Dnorm = D/N\n",
    "\n",
    "YTrue = np.zeros((4,T+1))\n",
    "YTrue[0,:] = Snorm[:,0]\n",
    "YTrue[1,:] = Inorm[:,0]\n",
    "YTrue[2,:] = Rnorm[:,0]\n",
    "YTrue[3,:] = Dnorm[:,0]\n",
    "\n",
    "# for this case, the only data source is an observed one, so facetiously Ytrue = Yobs\n",
    "#np.random.seed(116)\n",
    "tobs = tlist\n",
    "Yobs = YTrue\n",
    "Nobs = len(tobs)\n",
    "print('debug')"
   ]
  },
  {
   "cell_type": "code",
   "execution_count": 104,
   "metadata": {},
   "outputs": [],
   "source": [
    "def sird_model(parVecIn):\n",
    "    beta = parVecIn[0]\n",
    "    gamma = parVecIn[1]\n",
    "    delta = parVecIn[2]\n",
    "\n",
    "    dt = 1/10 # timestep\n",
    "    tgrd_ = 10*T # time integration grid\n",
    "    tlist = np.linspace(0,T+1,tgrd_)\n",
    "\n",
    "    Yeval = np.zeros((dof,tgrd_))\n",
    "    Yeval[:,0] = Yobs[:,0]\n",
    "    for kk in range(1,tgrd_):\n",
    "      Yeval[0,kk] = Yeval[0,kk-1] + dt*(-beta*Yeval[0,kk-1]*Yeval[1,kk-1])\n",
    "      Yeval[1,kk] = Yeval[1,kk-1] + dt*(beta*Yeval[0,kk-1] - gamma - delta)*Yeval[1,kk-1]\n",
    "      Yeval[2,kk] = Yeval[2,kk-1] + dt*(gamma*Yeval[1,kk-1])\n",
    "      Yeval[3,kk] = Yeval[3,kk-1] + dt*(delta*Yeval[1,kk-1])\n",
    "\n",
    "    return Yeval[:,0::]\n",
    "\n",
    "T_true = 212\n",
    "tgrd_true = 10*T\n",
    "tlist_true = np.linspace(0,T_true,tgrd_true)\n",
    "\n",
    "def sird_forecast(parVecIn):\n",
    "    beta = parVecIn[0]\n",
    "    gamma = parVecIn[1]\n",
    "    delta = parVecIn[2]\n",
    "    \n",
    "    dt = 1/10 # timestep\n",
    "\n",
    "    Yeval = np.zeros((dof,tgrd_true))\n",
    "    Yeval[:,0] = Yobs[:,0]\n",
    "    for kk in range(1,tgrd_true):\n",
    "      Yeval[0,kk] = Yeval[0,kk-1] + dt*(-beta*Yeval[0,kk-1]*Yeval[1,kk-1])\n",
    "      Yeval[1,kk] = Yeval[1,kk-1] + dt*(beta*Yeval[0,kk-1] - gamma - delta)*Yeval[1,kk-1]\n",
    "      Yeval[2,kk] = Yeval[2,kk-1] + dt*(gamma*Yeval[1,kk-1])\n",
    "      Yeval[3,kk] = Yeval[3,kk-1] + dt*(delta*Yeval[1,kk-1])\n",
    "\n",
    "    return Yeval\n",
    "\n",
    "def loglikfun(parVecIn):\n",
    "    noiseSig = 0.05\n",
    "    loglikfun_s,loglikfun_i,loglikfun_d,loglikfun_r  = 0.0, 0.0, 0.0, 0.0\n",
    "    # Yout = two_dof_model(parVecIn)\n",
    "    # for i in range(0,Nobs):\n",
    "    #     loglikfun_u1 = loglikfun_u1 + (Yobs[0,i] - Yout[0,sampFac*i])**2\n",
    "    #     loglikfun_u2 = loglikfun_u2 + (Yobs[1,i] - Yout[1,sampFac*i])**2\n",
    "    Yresp = sird_model(parVecIn)\n",
    "    for i in range(0,Nobs):\n",
    "        loglikfun_s = loglikfun_s + ((Yobs[0,i])/(Yresp[0,i]+1e-12) - 1)**2/(2.0*noiseSig**2)  + np.log(noiseSig) + 0.5*np.log(2*np.pi) + np.log(np.abs(Yresp[0,i])+1e-12)\n",
    "        loglikfun_i = loglikfun_i + ((Yobs[1,i])/(Yresp[1,i]+1e-12) - 1)**2/(2.0*noiseSig**2)  + np.log(noiseSig) + 0.5*np.log(2*np.pi) + np.log(np.abs(Yresp[1,i])+1e-12)\n",
    "        loglikfun_d = loglikfun_d + ((Yobs[2,i])/(Yresp[2,i]+1e-12) - 1)**2/(2.0*noiseSig**2)  + np.log(noiseSig) + 0.5*np.log(2*np.pi) + np.log(np.abs(Yresp[2,i])+1e-12)\n",
    "        loglikfun_r = loglikfun_r + ((Yobs[3,i])/(Yresp[3,i]+1e-12) - 1)**2/(2.0*noiseSig**2)  + np.log(noiseSig) + 0.5*np.log(2*np.pi) + np.log(np.abs(Yresp[3,i])+1e-12)\n",
    "    return -loglikfun_s  -loglikfun_i  -loglikfun_r -loglikfun_d\n",
    "\n",
    "def logpriorpdf(parVecIn): ## Only define priors for \\phi_{-\\alpha}\n",
    "        logprior = 0.0\n",
    "        # rv12 = st.lognorm(0.57536,0,0.15) # beta is a uniform distibution between 0 and 0.5\n",
    "        # logprior = logprior + rv12.logpdf(parVecIn[2])\n",
    "        # rv13 = st.lognorm(0.5,0,0.075) # gamma is a uniform distibution between 1/21 and 1/1\n",
    "        # logprior = logprior + rv13.logpdf(parVecIn[3])\n",
    "        return logprior\n",
    "def logpostprob(phiIn):\n",
    "    #return logpriorpdf(phiIn) + loglikfun(phiIn)\n",
    "    return loglikfun(phiIn)"
   ]
  },
  {
   "cell_type": "code",
   "execution_count": null,
   "metadata": {
    "colab": {
     "background_save": true
    },
    "id": "LrrXAVifC_xZ"
   },
   "outputs": [],
   "source": [
    "run_mcmc = 1\n",
    "\n",
    "if run_mcmc == 1:    \n",
    "    import time\n",
    "    start = time.time()\n",
    "\n",
    "    Nsmp = 5000\n",
    "    MHfac = 0.2\n",
    "    Xsmp,Chain,LLsmp, Evid, tmcmcFac  = My_TMCMC.TMCMC(logpostprob,Npar,X_low,X_up,Nsmp)\n",
    "\n",
    "    end = time.time()\n",
    "    print(end - start)\n",
    "else:\n",
    "    Nsmp = 5000\n",
    "    Xsmp = np.loadtxt('sird_0_samples.dat')\n",
    "    Chain = np.loadtxt('sird_0_chain.dat')"
   ]
  },
  {
   "cell_type": "code",
   "execution_count": null,
   "metadata": {},
   "outputs": [],
   "source": [
    "print(np.shape(Chain))\n",
    "print(np.shape(Xsmp))\n",
    "\n",
    "for ii in range(Npar):\n",
    "  plt.figure(ii)\n",
    "  plt.plot((1/Nsmp)*np.arange(0,len(Chain[ii,:])),Chain[ii,:],'b.',markersize=2,alpha=0.1)\n",
    "  plt.ylim([X_low[ii],X_up[ii]])\n",
    "  plt.xlim([1,17])\n",
    "  #plt.xlabel(mylabel[ii])\n",
    "  plt.grid(True)\n"
   ]
  },
  {
   "cell_type": "code",
   "execution_count": null,
   "metadata": {},
   "outputs": [],
   "source": [
    "#np.savetxt('sird_0_samplesv2.dat',Xsmp)\n",
    "#np.savetxt('sird_0_chainv2.dat',Chain)\n",
    "\n",
    "statSmp = Xsmp.copy()\n",
    "kdeMCMC= st.gaussian_kde(statSmp,bw_method = 0.1)\n",
    "SigMat = kdeMCMC.covariance\n",
    "# np.savetxt('SigMat.dat',SigMat)\n",
    "\n",
    "import scipy.stats as st\n",
    "from scipy.optimize import minimize\n",
    "kde = st.gaussian_kde(statSmp )\n",
    "def kde_fun(x):\n",
    "  return -kde(x)\n",
    "res = minimize(kde_fun,philock, method='nelder-mead',options={'xatol': 1e-8, 'disp': True})\n",
    "\n",
    "maps = res.x\n",
    "mean = np.mean(statSmp,axis=1)\n",
    "#np.savetxt('Case01Model2-map.dat')\n",
    "print(maps,mean)"
   ]
  },
  {
   "cell_type": "code",
   "execution_count": null,
   "metadata": {},
   "outputs": [],
   "source": [
    "mpl.rcParams.update({'font.size':14})\n",
    "statSmp = Xsmp\n",
    "bandwidth = [0.1,0.1,0.1]\n",
    "\n",
    "\n",
    "for j in range(0,Npar):\n",
    "    xlow,xup = np.min(statSmp[j,:]),np.max(statSmp[j,:])\n",
    "    f, ax = plt.subplots(1, figsize=(3,3))\n",
    "    #Xpdf = st.kde.gaussian_kde(statSmp[j,:])\n",
    "    Xpdf = st.kde.gaussian_kde(statSmp[j,:],bw_method = bandwidth[j])\n",
    "    print(Xpdf.silverman_factor())\n",
    "    Xgrd = np.linspace(xlow,xup,201)\n",
    "    # Xgrd = np.linspace(X_low[j],X_up[j],100)\n",
    "    plt.plot(Xgrd,Xpdf(Xgrd),'b-')\n",
    "    plt.hist(statSmp[j,:], bins=50, density=True,alpha=0.5)\n",
    "    pdfmax = max(Xpdf(Xgrd))\n",
    "    myYlim = [0.0, 1.1*pdfmax]\n",
    "    #plt.plot([phiTrue[j],phiTrue[j]],myYlim,'--g',label='True')\n",
    "    #plt.plot([phiNN[j],phiNN[j]],myYlim,'--r',label='True')\n",
    "    # plt.legend(loc='upper left', numpoints = 1)\n",
    "    plt.ylabel('pdf')\n",
    "    plt.xlabel(mylabel[j])\n",
    "    #plt.xlim([np.min(statSmp[j,:]),np.max(statSmp[j,:])])\n",
    "    plt.ylim(myYlim)\n",
    "    # plt.xlim([min(phiNN[j]/1.01,xlow),max(xup,phiNN[j]*1.01)])\n",
    "    # plt.xlim([X_low[j],X_up[j]])\n",
    "    # plt.yticks([])\n",
    "    plt.grid(True)\n",
    "    # plt.savefig('mpdf_'+str(j)+'.pdf',bbox_inches='tight')\n",
    "\n",
    "    for jj in range(Npar):\n",
    "        if j != jj:            \n",
    "            ylow,yup = np.min(statSmp[jj,:]),np.max(statSmp[jj,:])\n",
    "            f, ax = plt.subplots(1, figsize=(3,3))\n",
    "            plt.scatter(statSmp[j,::1],statSmp[jj,::1],alpha=0.1,s=25)\n",
    "            #plt.plot([xlow,xup],[phiTrue[jj],phiTrue[jj]],'--g',label='True')\n",
    "            #plt.plot([phiTrue[j],phiTrue[j]],[ylow,yup],'--g',label='True')\n",
    "            #plt.plot([xlow,xup],[phiNN[jj],phiNN[jj]],'--r',label='True')\n",
    "            #plt.plot([phiNN[j],phiNN[j]],[ylow,yup],'--r',label='True')\n",
    "            plt.xlim([xlow,xup])\n",
    "            plt.ylim([ylow,yup])\n",
    "            # plt.xlim([X_low[j],X_up[j]])\n",
    "            # plt.ylim([X_low[jj],X_up[jj]])\n",
    "            plt.xlabel(mylabel[j])\n",
    "            plt.ylabel(mylabel[jj])\n",
    "            # plt.ylim([0,5e5])\n",
    "            # plt.xlim([0,8e5])\n",
    "            # plt.savefig('figures/m1_jpdf_'+ str(ii)+str(jj)+'.pdf',bbox_inches='tight')\n",
    "            # plt.close()"
   ]
  },
  {
   "cell_type": "code",
   "execution_count": 109,
   "metadata": {},
   "outputs": [],
   "source": [
    "mpl.rcParams.update({'font.size':12})\n",
    "#Ytrue = sird_forecast(phiTrue) # 'True' is just our data\n",
    "Nreal = 212\n",
    "Yreal = np.zeros((dof,Nreal,tgrd_true))\n",
    "Ystd = np.zeros((dof,tgrd_true))\n",
    "Ymean = np.zeros((dof,tgrd_true))\n",
    "\n",
    "# c_map = [4,400]\n",
    "\n",
    "muVec = Xsmp\n",
    "# Ymap = Yresponse(c_map)\n",
    "for j in range(0,Nreal):\n",
    "  Ysim = sird_forecast(muVec[:,j*1])\n",
    "  for i in range(dof):\n",
    "    #Ysim = Yresponse([0,0,muVec[j]])\n",
    "    Yreal[i,j,:] = Ysim[i,:]\n",
    "\n",
    "# for i in range(dof):\n",
    "#   Ystd[i,:] = np.std(Yreal[i,:,:],0)\n",
    "#   Ymean[i,:] = np.mean(Yreal[i,:,:],0)\n"
   ]
  },
  {
   "cell_type": "code",
   "execution_count": null,
   "metadata": {},
   "outputs": [],
   "source": [
    "for i in range(dof):\n",
    "  lwidth = 0.1\n",
    "  #plt.figure(1,figsize=(8,3))\n",
    "  #fig, ax = plt.subplots()\n",
    "  #plt.plot(tobs,Yobs,'k.',label='Observations')\n",
    "  plt.grid(True)\n",
    "  plt.xlabel('Time (s)')\n",
    "  plt.xlim([-0.001,T])\n",
    "  \n",
    "  # plt.scatter(tobs,Yobs[i,:],color='w',edgecolor='k')\n",
    "  plt.plot(tobs,Yobs[i,:],color='grey')\n",
    "  # plt.plot(tlist_true,Ymean[i,:],color='r',linestyle='--',linewidth=2,label='Predicted')\n",
    "  plt.plot(tlist_true,Yreal[i,:].T,linewidth=0.1,alpha=1,color='r')\n",
    "  # plt.plot(tlist,Ymean[i,:]+2*Ystd[i,:],color='tab:red',linestyle='--',linewidth=1.2,label='99/% region')\n",
    "  # plt.plot(tlist,Ymean[i,:]-2*Ystd[i,:],color='tab:red',linestyle='--',linewidth=1.2)\n",
    "\n",
    "  #   plt.legend(loc='upper right', numpoints = 1)\n",
    "  # ax.fill_between(tlist, Y2, Y1, where=Y2 >= Y1, facecolor='pink', interpolate=True)\n",
    "  #plt.plot(tlist_true,Ytrue[i,:],'tab:blue',linestyle=':',linewidth=2,label = 'True')\n",
    "  plt.xlim([0,T])\n",
    "  # plt.ylim([-50,50])\n",
    "  # plt.savefig('figs/predictions_before_dof_'+str(i)+'.pdf',bbox_inches='tight')\n",
    "\n",
    "plt.show()"
   ]
  }
 ],
 "metadata": {
  "colab": {
   "name": "",
   "version": ""
  },
  "kernelspec": {
   "display_name": "Python 3",
   "language": "python",
   "name": "python3"
  },
  "language_info": {
   "codemirror_mode": {
    "name": "ipython",
    "version": 3
   },
   "file_extension": ".py",
   "mimetype": "text/x-python",
   "name": "python",
   "nbconvert_exporter": "python",
   "pygments_lexer": "ipython3",
   "version": "3.8.10"
  }
 },
 "nbformat": 4,
 "nbformat_minor": 0
}
